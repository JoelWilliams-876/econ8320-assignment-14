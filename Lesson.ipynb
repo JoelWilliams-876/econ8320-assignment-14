{
  "nbformat": 4,
  "nbformat_minor": 0,
  "metadata": {
    "colab": {
      "provenance": []
    },
    "kernelspec": {
      "name": "python3",
      "display_name": "Python 3"
    },
    "language_info": {
      "name": "python"
    }
  },
  "cells": [
    {
      "cell_type": "code",
      "execution_count": 5,
      "metadata": {
        "colab": {
          "base_uri": "https://localhost:8080/"
        },
        "id": "-a0ksf2DRQfp",
        "outputId": "840367b0-5345-4dfd-d011-c4ab9b05ce52"
      },
      "outputs": [
        {
          "output_type": "stream",
          "name": "stdout",
          "text": [
            "Serial time: 0.006667147000030127\n",
            "Parallel time: 0.03620878999993238\n",
            "Average of sResults: 133.898972847842\n",
            "Average of pResults: 135.0843651541566\n"
          ]
        }
      ],
      "source": [
        "import timeit\n",
        "import numpy as np\n",
        "import multiprocessing as mp\n",
        "\n",
        "def y():\n",
        "    \"\"\"Generate a single sample of y based on the given equation.\"\"\"\n",
        "    alpha = np.random.normal(15, 2)\n",
        "    x1 = np.random.normal(3, 5)\n",
        "    x2 = np.random.normal(10, 1)\n",
        "    x3 = np.random.normal(8, 8)\n",
        "    epsilon = np.random.normal(0, 1)\n",
        "    return alpha + x1 + 2 * x2 + 12 * x3 + epsilon\n",
        "\n",
        "def worker(_):\n",
        "    \"\"\"Wrapper function for parallel execution.\"\"\"\n",
        "    return y()\n",
        "\n",
        "def sCalc(n_draws):\n",
        "    \"\"\"Perform n_draws and return the average value of y.\"\"\"\n",
        "    samples = [y() for _ in range(n_draws)]\n",
        "    return sum(samples) / len(samples)\n",
        "\n",
        "def pCalc(n_draws, processes):\n",
        "    \"\"\"Perform n_draws in parallel using the specified number of processes.\"\"\"\n",
        "    with mp.Pool(processes=processes) as pool:\n",
        "        results = pool.map(worker, range(n_draws))  # Distribute work to `worker`\n",
        "    return sum(results) / len(results)\n",
        "\n",
        "# Parameters\n",
        "n_draws = 1000\n",
        "processes = 2\n",
        "\n",
        "# Timing the serial execution\n",
        "sTime = timeit.timeit(lambda: sCalc(n_draws), number=1)\n",
        "sResults = sCalc(n_draws)\n",
        "\n",
        "# Timing the parallel execution\n",
        "pTime = timeit.timeit(lambda: pCalc(n_draws, processes), number=1)\n",
        "pResults = pCalc(n_draws, processes)\n",
        "\n",
        "# Displaying results\n",
        "print(\"Serial time:\", sTime)\n",
        "print(\"Parallel time:\", pTime)\n",
        "print(\"Average of sResults:\", sResults)\n",
        "print(\"Average of pResults:\", pResults)\n"
      ]
    }
  ]
}