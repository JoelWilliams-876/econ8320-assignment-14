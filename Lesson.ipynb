{
  "nbformat": 4,
  "nbformat_minor": 0,
  "metadata": {
    "colab": {
      "provenance": []
    },
    "kernelspec": {
      "name": "python3",
      "display_name": "Python 3"
    },
    "language_info": {
      "name": "python"
    }
  },
  "cells": [
    {
      "cell_type": "code",
      "execution_count": 3,
      "metadata": {
        "colab": {
          "base_uri": "https://localhost:8080/"
        },
        "id": "-a0ksf2DRQfp",
        "outputId": "0df18323-a992-4555-edc6-e5b0bb000893"
      },
      "outputs": [
        {
          "output_type": "stream",
          "name": "stdout",
          "text": [
            "Serial execution time (sTime): 0.3694069670000033\n",
            "Parallel execution time (pTime): 0.37381098400001633\n",
            "Average of sResults: 134.0073208205545\n",
            "Average of pResults: 133.7638942598084\n"
          ]
        }
      ],
      "source": [
        "#si-exercise\n",
        "import random\n",
        "import timeit\n",
        "import multiprocessing\n",
        "\n",
        "def generate_sample():\n",
        "    \"\"\"Generate a single sample of y based on the given equation.\"\"\"\n",
        "    alpha = random.gauss(15, 2)\n",
        "    x1 = random.gauss(3, 5)\n",
        "    x2 = random.gauss(10, 1)\n",
        "    x3 = random.gauss(8, 8)\n",
        "    epsilon = random.gauss(0, 1)\n",
        "    y = alpha + x1 + 2 * x2 + 12 * x3 + epsilon\n",
        "    return y\n",
        "\n",
        "def single_draw():\n",
        "    \"\"\"Perform 1,000 draws and return the average value of y.\"\"\"\n",
        "    samples = [generate_sample() for _ in range(1000)]\n",
        "    return sum(samples) / len(samples)\n",
        "\n",
        "def sCalc():\n",
        "    \"\"\"Run the bootstrapping process serially.\"\"\"\n",
        "    results = []\n",
        "    for _ in range(100):\n",
        "        results.append(single_draw())\n",
        "    return results\n",
        "\n",
        "def worker_function(_):\n",
        "    \"\"\"Wrapper function for single_draw to be used in multiprocessing.\"\"\"\n",
        "    return single_draw()\n",
        "\n",
        "def pCalc():\n",
        "    \"\"\"Run the bootstrapping process in parallel using 2 cores.\"\"\"\n",
        "    with multiprocessing.Pool(2) as pool:\n",
        "        # Use the worker_function instead of the lambda function\n",
        "        results = pool.map(worker_function, range(100))\n",
        "    return results\n",
        "\n",
        "# Timing the serial execution\n",
        "sTime = timeit.timeit(sCalc, number=1)\n",
        "sResults = sCalc()\n",
        "\n",
        "# Timing the parallel execution\n",
        "pTime = timeit.timeit(pCalc, number=1)\n",
        "pResults = pCalc()\n",
        "\n",
        "# Displaying results\n",
        "print(\"Serial execution time (sTime):\", sTime)\n",
        "print(\"Parallel execution time (pTime):\", pTime)\n",
        "print(\"Average of sResults:\", sum(sResults) / len(sResults))\n",
        "print(\"Average of pResults:\", sum(pResults) / len(pResults))\n"
      ]
    }
  ]
}