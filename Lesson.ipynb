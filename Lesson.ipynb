{
  "nbformat": 4,
  "nbformat_minor": 0,
  "metadata": {
    "colab": {
      "provenance": []
    },
    "kernelspec": {
      "name": "python3",
      "display_name": "Python 3"
    },
    "language_info": {
      "name": "python"
    }
  },
  "cells": [
    {
      "cell_type": "code",
      "execution_count": 2,
      "metadata": {
        "colab": {
          "base_uri": "https://localhost:8080/"
        },
        "id": "-a0ksf2DRQfp",
        "outputId": "5f6ab7cd-536f-4aa7-d3ca-8dd3894e1694"
      },
      "outputs": [
        {
          "output_type": "stream",
          "name": "stdout",
          "text": [
            "Serial time: 0.006433806000018194\n",
            "Parallel time: 0.08852411099996971\n",
            "Average of sResults: 137.9073919975585\n",
            "Average of pResults: 137.07034548600143\n"
          ]
        }
      ],
      "source": [
        "import random\n",
        "import timeit\n",
        "import numpy as np\n",
        "import multiprocessing as mp\n",
        "\n",
        "def y():\n",
        "    \"\"\"Generate a single sample of y based on the given equation.\"\"\"\n",
        "    alpha = np.random.normal(15, 2)\n",
        "    x1 = np.random.normal(3, 5)\n",
        "    x2 = np.random.normal(10, 1)\n",
        "    x3 = np.random.normal(8, 8)\n",
        "    epsilon = np.random.normal(0, 1)\n",
        "    return alpha + x1 + 2 * x2 + 12 * x3 + epsilon\n",
        "\n",
        "def sCalc(n_draws):\n",
        "    \"\"\"Perform n_draws and return the average value of y.\"\"\"\n",
        "    samples = [y() for _ in range(n_draws)]\n",
        "    return sum(samples) / len(samples)\n",
        "\n",
        "def pCalc(n_draws, processes):\n",
        "    \"\"\"Perform n_draws in parallel using apply_async.\"\"\"\n",
        "    with mp.Pool(processes=processes) as pool:\n",
        "        async_results = [pool.apply_async(y) for _ in range(n_draws)]  # Launch tasks asynchronously\n",
        "        results = [res.get() for res in async_results]  # Collect results\n",
        "    return sum(results) / len(results)\n",
        "\n",
        "# Parameters\n",
        "n_draws = 1000\n",
        "processes = 2\n",
        "\n",
        "# Timing the serial execution using timeit.Timer\n",
        "serial_timer = timeit.Timer(lambda: sCalc(n_draws))\n",
        "sTime = serial_timer.timeit(number=1)\n",
        "sResults = sCalc(n_draws)\n",
        "\n",
        "# Timing the parallel execution using timeit.Timer\n",
        "parallel_timer = timeit.Timer(lambda: pCalc(n_draws, processes))\n",
        "pTime = parallel_timer.timeit(number=1)\n",
        "pResults = pCalc(n_draws, processes)\n",
        "\n",
        "# Displaying results\n",
        "print(\"Serial time:\", sTime)\n",
        "print(\"Parallel time:\", pTime)\n",
        "print(\"Average of sResults:\", sResults)\n",
        "print(\"Average of pResults:\", pResults)\n"
      ]
    }
  ]
}