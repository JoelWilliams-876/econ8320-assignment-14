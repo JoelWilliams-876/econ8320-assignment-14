{
  "nbformat": 4,
  "nbformat_minor": 0,
  "metadata": {
    "colab": {
      "provenance": []
    },
    "kernelspec": {
      "name": "python3",
      "display_name": "Python 3"
    },
    "language_info": {
      "name": "python"
    }
  },
  "cells": [
    {
      "cell_type": "code",
      "execution_count": 12,
      "metadata": {
        "colab": {
          "base_uri": "https://localhost:8080/"
        },
        "id": "-a0ksf2DRQfp",
        "outputId": "fdbd00cf-7ff6-44ee-832a-52aef0464395"
      },
      "outputs": [
        {
          "output_type": "stream",
          "name": "stdout",
          "text": [
            "Serial time: <timeit.Timer object at 0x78cd8d4688e0>\n",
            "Parallel time: <timeit.Timer object at 0x78cd8d469150>\n",
            "Average of sResults: 131.35660109368837\n",
            "Average of pResults: 130.10785932506255\n"
          ]
        }
      ],
      "source": [
        "#si-exercise\n",
        "import timeit\n",
        "import numpy as np\n",
        "import multiprocessing as mp\n",
        "\n",
        "def y():\n",
        "    \"\"\"Generate a single sample of y based on the given equation.\"\"\"\n",
        "    alpha = np.random.normal(15, 2)\n",
        "    x1 = np.random.normal(3, 5)\n",
        "    x2 = np.random.normal(10, 1)\n",
        "    x3 = np.random.normal(8, 8)\n",
        "    epsilon = np.random.normal(0, 1)\n",
        "    return alpha + x1 + 2 * x2 + 12 * x3 + epsilon\n",
        "\n",
        "def worker(_):\n",
        "    \"\"\"Wrapper function for parallel execution.\"\"\"\n",
        "    return y()\n",
        "\n",
        "def sCalc(n_draws):\n",
        "    \"\"\"Perform n_draws and return the average value of y.\"\"\"\n",
        "    samples = [y() for _ in range(n_draws)]\n",
        "    return sum(samples) / len(samples)\n",
        "\n",
        "def pCalc(n_draws, processes):\n",
        "    \"\"\"Perform n_draws in parallel using the specified number of processes.\"\"\"\n",
        "    with mp.Pool(processes=processes) as pool:\n",
        "        results = pool.map(worker, range(n_draws))  # Distribute work to `worker`\n",
        "    return sum(results) / len(results)\n",
        "\n",
        "# Parameters\n",
        "n_draws = 1000\n",
        "processes = 2\n",
        "\n",
        "# Timing the serial execution\n",
        "sTime = timeit.Timer(\"sCalc(n_draws)\", globals=globals())\n",
        "sResults = sCalc(n_draws)  # Run the serial function\n",
        "serial_time = sTime.timeit(number=1)  # Time a single execution\n",
        "\n",
        "# Timing the parallel execution\n",
        "pTime = timeit.Timer(\"pCalc(n_draws, processes)\", globals=globals())\n",
        "pResults = pCalc(n_draws, processes)  # Run the parallel function\n",
        "parallel_time = pTime.timeit(number=1)  # Time a single execution\n",
        "\n",
        "# Displaying results\n",
        "print(\"Serial time:\", sTime)\n",
        "print(\"Parallel time:\", pTime)\n",
        "print(\"Average of sResults:\", sResults)\n",
        "print(\"Average of pResults:\", pResults)\n"
      ]
    }
  ]
}